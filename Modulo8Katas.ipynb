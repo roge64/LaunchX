{
 "cells": [
  {
   "cell_type": "markdown",
   "metadata": {},
   "source": [
    "## Ejercicio 1: Crear y modificar un diccionario de Python\n",
    "#### Los diccionarios python te permiten modelar datos más complejos. Los diccionarios son una colección de pares clave/valor, y son muy comunes en los programas Python. Su flexibilidad le permite trabajar dinámicamente con valores relacionados sin tener que crear clases u objetos."
   ]
  },
  {
   "cell_type": "code",
   "execution_count": 20,
   "metadata": {},
   "outputs": [
    {
     "name": "stdout",
     "output_type": "stream",
     "text": [
      "Marte tiene 2 lunas\n",
      "Marte tiene una circunferencia polar de 6752 kms\n"
     ]
    }
   ],
   "source": [
    "planeta = {\n",
    "    'nombre': 'Marte',\n",
    "    'lunas': 2\n",
    "}\n",
    "\n",
    "print(f'{planeta[\"nombre\"]} tiene {planeta[\"lunas\"]} lunas')\n",
    "\n",
    "planeta['circunferencia (km)'] = {\n",
    "    'polar': 6752,\n",
    "    'equatorial': 6792\n",
    "}\n",
    "\n",
    "print(f'{planeta[\"nombre\"]} tiene una circunferencia polar de {planeta[\"circunferencia (km)\"] [\"polar\"]} kms')\n",
    "\n"
   ]
  },
  {
   "cell_type": "markdown",
   "metadata": {},
   "source": [
    "## Ejercicio 2: Cálculo de valores\n",
    "#### En este escenario, calcularás tanto el número total de lunas en el sistema solar como el número promedio de lunas que tiene un planeta.\n",
    "\n"
   ]
  },
  {
   "cell_type": "code",
   "execution_count": 24,
   "metadata": {},
   "outputs": [
    {
     "name": "stdout",
     "output_type": "stream",
     "text": [
      "23\n"
     ]
    }
   ],
   "source": [
    "planeta_lunas = {\n",
    "    'Mercurio': 0,\n",
    "    'Venus': 0,\n",
    "    'Tierra': 1,\n",
    "    'Marte': 2,\n",
    "    'Jupiter': 79,\n",
    "    'Saturno': 82,\n",
    "    'Urano': 27,\n",
    "    'Neptun0': 14,\n",
    "    'Pluton': 5,\n",
    "}\n",
    "\n",
    "lunas = planeta_lunas.values()\n",
    "\n",
    "planetas = len(planeta_lunas.keys())\n",
    "\n",
    "lunas_totales = 0\n",
    "for luna in lunas:\n",
    "    lunas_totales = lunas_totales + luna\n",
    "    \n",
    "promedio = int(lunas_totales / planetas)\n",
    "\n",
    "print (promedio)\n"
   ]
  }
 ],
 "metadata": {
  "interpreter": {
   "hash": "916dbcbb3f70747c44a77c7bcd40155683ae19c65e1c03b4aa3499c5328201f1"
  },
  "kernelspec": {
   "display_name": "Python 3.8.10 64-bit",
   "language": "python",
   "name": "python3"
  },
  "language_info": {
   "codemirror_mode": {
    "name": "ipython",
    "version": 3
   },
   "file_extension": ".py",
   "mimetype": "text/x-python",
   "name": "python",
   "nbconvert_exporter": "python",
   "pygments_lexer": "ipython3",
   "version": "3.8.10"
  },
  "orig_nbformat": 4
 },
 "nbformat": 4,
 "nbformat_minor": 2
}
