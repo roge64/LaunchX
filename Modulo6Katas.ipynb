{
 "cells": [
  {
   "cell_type": "markdown",
   "metadata": {},
   "source": [
    "## Ejercicio 1: Crear y usar listas de Python\n",
    "\n",
    "#### Usar listas para almacenar nombres de planetas\n",
    "#### Las listas permiten almacenar varios valores en una sola variable. Comenzarás un proyecto sobre información planetaria creando una lista de planetas."
   ]
  },
  {
   "cell_type": "code",
   "execution_count": 6,
   "metadata": {},
   "outputs": [
    {
     "name": "stdout",
     "output_type": "stream",
     "text": [
      "Tenemos 8 planetas en el sistema solar.\n",
      "Tenemos 9 planetas en el sistema solar.\n",
      "El último planeta es Pluton\n"
     ]
    }
   ],
   "source": [
    "planetas = [\"Mercurio\", \"Venus\", \"Tierra\", \"Marte\", \"Jupiter\", \"Saturno\", \"Urano\", \"Neptuno\"]\n",
    "numero_de_planetas = len(planetas)\n",
    "print('Tenemos', numero_de_planetas, \"planetas en el sistema solar.\")\n",
    "\n",
    "planetas.append(\"Pluton\")\n",
    "numero_de_planetas = len(planetas)\n",
    "print('Tenemos', numero_de_planetas, \"planetas en el sistema solar.\")\n",
    "\n",
    "print('El último planeta es', planetas[-1])\n"
   ]
  },
  {
   "cell_type": "markdown",
   "metadata": {},
   "source": [
    "## Ejercicio 2: Trabajando con datos de una lista\n",
    "\n",
    "#### Usar slices para recuperar partes de una lista\n",
    "#### Es posible que debas trabajar con diferentes secciones de una lista. En nuestro ejemplo, queremos mostrar planetas más cerca y más lejos del sol de un planeta que el usuario ingresa por teclado."
   ]
  },
  {
   "cell_type": "code",
   "execution_count": 21,
   "metadata": {},
   "outputs": [
    {
     "name": "stdout",
     "output_type": "stream",
     "text": [
      "['Mercurio', 'Venus', 'Tierra', 'Marte', 'Jupiter', 'Saturno', 'Urano', 'Neptuno', 'Pluton']\n",
      "Tenemos 9 planetas en el sistema solar.\n",
      "\n",
      "El último planeta es Pluton\n",
      "\n",
      "Estos son los planetas máa cercanos al sol que Pluton\n",
      "['Mercurio', 'Venus', 'Tierra', 'Marte', 'Jupiter', 'Saturno', 'Urano', 'Neptuno']\n"
     ]
    }
   ],
   "source": [
    "planetas = [\"Mercurio\", \"Venus\", \"Tierra\", \"Marte\", \"Jupiter\", \"Saturno\", \"Urano\", \"Neptuno\"]\n",
    "\n",
    "planeta_nuevo = input('Introduzca el nombre de un planeta para agregar a la lista')\n",
    "\n",
    "planetas.append(planeta_nuevo)\n",
    "\n",
    "print(planetas)\n",
    "\n",
    "numero_de_planetas = len(planetas)\n",
    "print('Tenemos', numero_de_planetas, \"planetas en el sistema solar.\")\n",
    "\n",
    "print(\"\")\n",
    "\n",
    "print('El último planeta es', planetas[-1])\n",
    "\n",
    "planeta_index = planetas.index(planeta_nuevo)\n",
    "\n",
    "print(\"\")\n",
    "\n",
    "print(\"Estos son los planetas máa cercanos al sol que \" + planeta_nuevo)\n",
    "print(planetas[0: planeta_index])\n"
   ]
  }
 ],
 "metadata": {
  "interpreter": {
   "hash": "4a0e7914b54f876e4208b1b2f23e4d89cd851d64d270f278a717bb0519f2259d"
  },
  "kernelspec": {
   "display_name": "Python 3.8.10 ('env': venv)",
   "language": "python",
   "name": "python3"
  },
  "language_info": {
   "codemirror_mode": {
    "name": "ipython",
    "version": 3
   },
   "file_extension": ".py",
   "mimetype": "text/x-python",
   "name": "python",
   "nbconvert_exporter": "python",
   "pygments_lexer": "ipython3",
   "version": "3.8.10"
  },
  "orig_nbformat": 4
 },
 "nbformat": 4,
 "nbformat_minor": 2
}
