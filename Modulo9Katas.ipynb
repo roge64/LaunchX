{
 "cells": [
  {
   "cell_type": "markdown",
   "metadata": {},
   "source": [
    "## Ejercicio 1: Trabajar con argumentos en funciones\n",
    "#### Los argumentos requeridos en las funciones se utilizan cuando las funciones necesitan que esos argumentos funcionen correctamente. En este ejercicio, construirás un informe de combustible que requiere información de varias ubicaciones de combustible en todo el cohete.\n",
    "\n"
   ]
  },
  {
   "cell_type": "code",
   "execution_count": 52,
   "metadata": {},
   "outputs": [
    {
     "name": "stdout",
     "output_type": "stream",
     "text": [
      "Informe:\n",
      "    Promedo Combustible : 55%\n",
      "    Tanque No 1: 55%\n",
      "    Tanque No 2: 35%\n",
      "    Tanque No 3: 75% \n",
      "    \n"
     ]
    }
   ],
   "source": [
    "def informe(tq1, tq2, tq3):\n",
    "    prom_combustible = (tq1  + tq2 + tq3) / 3\n",
    "    return f\"\"\"Informe:\n",
    "    Promedo Combustible : {round(prom_combustible)}%\n",
    "    Tanque No 1: {tq1}%\n",
    "    Tanque No 2: {tq2}%\n",
    "    Tanque No 3: {tq3}% \n",
    "    \"\"\"\n",
    "\n",
    "print(informe(55, 35, 75))\n"
   ]
  },
  {
   "cell_type": "code",
   "execution_count": 53,
   "metadata": {},
   "outputs": [
    {
     "name": "stdout",
     "output_type": "stream",
     "text": [
      "Informe:\n",
      "    Promedo Combustible : 95%\n",
      "    Tanque No 1: 100%\n",
      "    Tanque No 2: 90%\n",
      "    Tanque No 3: 95% \n",
      "    \n"
     ]
    }
   ],
   "source": [
    "\n",
    "def promedio(values):\n",
    "    total = sum(values)\n",
    "    lecturas = len(values)\n",
    "    return total / lecturas\n",
    "\n",
    "def informe(tq1, tq2, tq3):\n",
    "    return f\"\"\"Informe:\n",
    "    Promedo Combustible : {round(promedio([tq1, tq2, tq3]))}%\n",
    "    Tanque No 1: {tq1}%\n",
    "    Tanque No 2: {tq2}%\n",
    "    Tanque No 3: {tq3}% \n",
    "    \"\"\"\n",
    "\n",
    "print(informe(100, 90, 95))\n",
    "\n"
   ]
  },
  {
   "cell_type": "markdown",
   "metadata": {},
   "source": [
    "## Ejercicio 2: Trabajar con argumentos de palabras clave en funciones\n",
    "#### En este ejercicio, construirás un informe de cohete que requiere varias piezas de información, como el tiempo hasta el destino, el combustible a la izquierda y el nombre del destino. Comienza por crear una función que creará un informe preciso de la misión:"
   ]
  },
  {
   "cell_type": "code",
   "execution_count": 54,
   "metadata": {},
   "outputs": [
    {
     "name": "stdout",
     "output_type": "stream",
     "text": [
      "\n",
      "    Misión con destino a: Luna\n",
      "    Tiempo total de viaje: 130 minutos\n",
      "    Combustible disponible: 2000 M3\n",
      "    \n"
     ]
    }
   ],
   "source": [
    "def informe(prelanzamiento, tiempo_devuelo, destino, tq1, tq2):\n",
    "    return f\"\"\"\n",
    "    Misión con destino a: {destino}\n",
    "    Tiempo total de viaje: {prelanzamiento + tiempo_devuelo} minutos\n",
    "    Combustible disponible: {tq1 + tq2} M3\n",
    "    \"\"\"\n",
    "    \n",
    "print(informe(10, 120, \"Luna\", 750, 1250))\n"
   ]
  },
  {
   "cell_type": "code",
   "execution_count": 59,
   "metadata": {},
   "outputs": [
    {
     "name": "stdout",
     "output_type": "stream",
     "text": [
      "\"\n",
      "    Misión con destino a: Luna\n",
      "    Tiempo total de viaje: 130 minutos\n",
      "    Combustible disponible: 2000 M3\n",
      "    \n"
     ]
    }
   ],
   "source": [
    "def informe(destino, *minutos, **reserva_comb):\n",
    "    return f\"\"\"\"\n",
    "    Misión con destino a: {destino}\n",
    "    Tiempo total de viaje: {sum(minutos)} minutos\n",
    "    Combustible disponible: {sum(reserva_comb.values())} M3\n",
    "    \"\"\"\n",
    "\n",
    "print(informe(\"Luna\", 10, 30, 90, tq1=750, tq2=1250))\n"
   ]
  },
  {
   "cell_type": "code",
   "execution_count": 65,
   "metadata": {},
   "outputs": [
    {
     "name": "stdout",
     "output_type": "stream",
     "text": [
      "\"\n",
      "    Misión con destino a: Luna\n",
      "    Tiempo total de viaje: 130 minutos\n",
      "    Combustible disponible: 2000 M3\n",
      "    tq1 Tanque --> 750 M3 disponibles\n",
      "tq2 Tanque --> 1250 M3 disponibles\n",
      "\n"
     ]
    }
   ],
   "source": [
    "def informe(destino, *minutos, **reserva_comb):\n",
    "    informe_comb = f\"\"\"\"\n",
    "    Misión con destino a: {destino}\n",
    "    Tiempo total de viaje: {sum(minutos)} minutos\n",
    "    Combustible disponible: {sum(reserva_comb.values())} M3\n",
    "    \"\"\"\n",
    "    for tqe, M3 in reserva_comb.items():\n",
    "        informe_comb += f\"{tqe} Tanque --> {M3} M3 disponibles\\n\"\n",
    "    return informe_comb\n",
    "\n",
    "print(informe(\"Luna\", 10, 30, 90, tq1=750, tq2=1250))"
   ]
  }
 ],
 "metadata": {
  "interpreter": {
   "hash": "916dbcbb3f70747c44a77c7bcd40155683ae19c65e1c03b4aa3499c5328201f1"
  },
  "kernelspec": {
   "display_name": "Python 3.8.10 64-bit",
   "language": "python",
   "name": "python3"
  },
  "language_info": {
   "codemirror_mode": {
    "name": "ipython",
    "version": 3
   },
   "file_extension": ".py",
   "mimetype": "text/x-python",
   "name": "python",
   "nbconvert_exporter": "python",
   "pygments_lexer": "ipython3",
   "version": "3.8.10"
  },
  "orig_nbformat": 4
 },
 "nbformat": 4,
 "nbformat_minor": 2
}
