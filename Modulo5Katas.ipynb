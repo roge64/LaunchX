{
 "cells": [
  {
   "cell_type": "markdown",
   "metadata": {},
   "source": [
    "## Ejercicio 1 - Utilizar operadores aritméticos\n",
    "### Operadores aritméticos en Python\n",
    "#### Python proporciona operadores aritméticos comunes para que puedas realizar operaciones matemáticas en tu código. Estos incluyen las cuatro operaciones principales de suma, resta, multiplicación y división.\n",
    "\n",
    "#### Exploremos cómo podemos crear un programa que pueda calcular la distancia entre dos planetas. Comenzaremos usando dos distancias de planetas: Tierra (149.597.870 km) y Júpiter (778.547.200 km)."
   ]
  },
  {
   "cell_type": "code",
   "execution_count": 32,
   "metadata": {},
   "outputs": [
    {
     "name": "stdout",
     "output_type": "stream",
     "text": [
      "628949330 kilómetros\n",
      "\n",
      "390577534 millas\n"
     ]
    }
   ],
   "source": [
    "from math import ceil\n",
    "\n",
    "sol_tierra = 149597870\n",
    "sol_jupiter = 778547200\n",
    "tierra_jupiter = sol_jupiter - sol_tierra\n",
    "print((tierra_jupiter),\"kilómetros\")\n",
    "print(\"\")\n",
    "print(ceil(tierra_jupiter*0.621),\"millas\")\n",
    "\n",
    "\n"
   ]
  },
  {
   "cell_type": "markdown",
   "metadata": {},
   "source": [
    "## Ejercicio 2: Convierte cadenas en números y usa valores absolutos\n",
    "\n",
    "#### Crear una aplicación para trabajar con números y entrada de usuario\n",
    "#### Con frecuencia, deberás convertir los valores de cadena en números para realizar correctamente diferentes operaciones o determinar el valor absoluto de un número.\n",
    "\n",
    "#### Para crear nuestra aplicación, queremos leer la distancia del sol para dos planetas, y luego mostrar la distancia entre los planetas. Haremos esto usando input para leer los valores, int para convertir a entero y luego abs para convertir el resultado en su valor absoluto."
   ]
  },
  {
   "cell_type": "code",
   "execution_count": 44,
   "metadata": {},
   "outputs": [
    {
     "name": "stdout",
     "output_type": "stream",
     "text": [
      "3080470 kilómetros\n",
      "\n",
      "1912971.8699999999 millas\n"
     ]
    }
   ],
   "source": [
    "planeta1 = input('Introduzca la distancia desde el sol al primer planeta en KM')\n",
    "planeta2 = input('Introduzca la distancia desde el sol al segundo planeta en KM')\n",
    "\n",
    "planeta1 = int(planeta1)\n",
    "planeta2 = int(planeta2)\n",
    "\n",
    "distanciakm = planeta2 - planeta1 \n",
    "print((distanciakm), \"kilómetros\")\n",
    "print(\"\")\n",
    "print(abs(distanciakm*0.621),\"millas\")\n"
   ]
  }
 ],
 "metadata": {
  "interpreter": {
   "hash": "4a0e7914b54f876e4208b1b2f23e4d89cd851d64d270f278a717bb0519f2259d"
  },
  "kernelspec": {
   "display_name": "Python 3.8.10 ('env': venv)",
   "language": "python",
   "name": "python3"
  },
  "language_info": {
   "codemirror_mode": {
    "name": "ipython",
    "version": 3
   },
   "file_extension": ".py",
   "mimetype": "text/x-python",
   "name": "python",
   "nbconvert_exporter": "python",
   "pygments_lexer": "ipython3",
   "version": "3.8.10"
  },
  "orig_nbformat": 4
 },
 "nbformat": 4,
 "nbformat_minor": 2
}
