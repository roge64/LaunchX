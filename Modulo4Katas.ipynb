{
 "cells": [
  {
   "cell_type": "code",
   "execution_count": null,
   "metadata": {},
   "outputs": [],
   "source": []
  },
  {
   "cell_type": "markdown",
   "metadata": {},
   "source": [
    "### El texto con el que trabajarás es el siguiente:\n",
    "\n",
    "##### Interesting facts about the Moon. The Moon is Earth's only satellite. There are several interesting facts about the Moon and how it affects life here on Earth. On average, the Moon moves 4cm away from the Earth every year. This yearly drift is not significant enough to cause immediate effects on Earth. The highest daylight temperature of the Moon is 127 C.\n"
   ]
  },
  {
   "cell_type": "code",
   "execution_count": 1,
   "metadata": {},
   "outputs": [
    {
     "data": {
      "text/plain": [
       "['Interesting facts about the Moon',\n",
       " \"The Moon is Earth's only satellite\",\n",
       " 'There are several interesting facts about the Moon and how it affects life here on Earth',\n",
       " 'On average, the Moon moves 4cm away from the Earth every year',\n",
       " 'This yearly drift is not significant enough to cause immediate effects on Earth',\n",
       " 'The highest daylight temperature of the Moon is 127 C.']"
      ]
     },
     "execution_count": 1,
     "metadata": {},
     "output_type": "execute_result"
    }
   ],
   "source": [
    "texto = \"Interesting facts about the Moon. The Moon is Earth's only satellite. There are several interesting facts about the Moon and how it affects life here on Earth. On average, the Moon moves 4cm away from the Earth every year. This yearly drift is not significant enough to cause immediate effects on Earth. The highest daylight temperature of the Moon is 127 C.\"\n",
    "texto_partes = texto.split('. ')\n",
    "texto_partes\n"
   ]
  },
  {
   "cell_type": "markdown",
   "metadata": {},
   "source": [
    "### Ahora, define algunas palabras clave para búsqueda que te ayudarán a determinar si una oración contiene un hecho.\n",
    "\n",
    "##### Las palabras clave: average, temperature y distance son una buena opción.\n"
   ]
  },
  {
   "cell_type": "code",
   "execution_count": 29,
   "metadata": {},
   "outputs": [
    {
     "name": "stdout",
     "output_type": "stream",
     "text": [
      "No encontré palabra clave\n",
      "No encontré palabra clave\n",
      "No encontré palabra clave\n",
      "No encontré palabra clave\n",
      "No encontré palabra clave\n",
      "No encontré palabra clave\n",
      "No encontré palabra clave\n",
      "No encontré palabra clave\n",
      "No encontré palabra clave\n",
      "On average, the Moon moves 4cm away from the Earth every year\n",
      "No encontré palabra clave\n",
      "No encontré palabra clave\n",
      "No encontré palabra clave\n",
      "No encontré palabra clave\n",
      "No encontré palabra clave\n",
      "No encontré palabra clave\n",
      "The highest daylight temperature of the Moon is 127 C.\n",
      "No encontré palabra clave\n"
     ]
    }
   ],
   "source": [
    "texto = \"Interesting facts about the Moon. The Moon is Earth's only satellite. There are several interesting facts about the Moon and how it affects life here on Earth. On average, the Moon moves 4cm away from the Earth every year. This yearly drift is not significant enough to cause immediate effects on Earth. The highest daylight temperature of the Moon is 127 C.\"\n",
    "texto_parts = texto.split(\". \")\n",
    "palabras_clave = [\"average\", \"temperature\", \"distance\"]\n",
    "for oracion in texto_parts:\n",
    "    for palabra_clave in palabras_clave:\n",
    "        if palabra_clave in oracion:\n",
    "            print(oracion)\n",
    "        else:\n",
    "            print(\"No encontré palabra clave\")"
   ]
  },
  {
   "cell_type": "code",
   "execution_count": 30,
   "metadata": {},
   "outputs": [
    {
     "name": "stdout",
     "output_type": "stream",
     "text": [
      "No encontré palabra clave\n",
      "No encontré palabra clave\n",
      "No encontré palabra clave\n",
      "No encontré palabra clave\n",
      "No encontré palabra clave\n",
      "No encontré palabra clave\n",
      "No encontré palabra clave\n",
      "No encontré palabra clave\n",
      "No encontré palabra clave\n",
      "On average, the Moon moves 4cm away from the Earth every year\n",
      "No encontré palabra clave\n",
      "No encontré palabra clave\n",
      "No encontré palabra clave\n",
      "No encontré palabra clave\n",
      "No encontré palabra clave\n",
      "No encontré palabra clave\n",
      "The highest daylight temperature of the Moon is 127 Celsius.\n",
      "No encontré palabra clave\n"
     ]
    }
   ],
   "source": [
    "for oracion in texto_parts:\n",
    "    for palabra_clave in palabras_clave:\n",
    "        if palabra_clave in oracion:\n",
    "            print(oracion.replace(' C', ' Celsius'))\n",
    "        else:\n",
    "            print(\"No encontré palabra clave\")"
   ]
  },
  {
   "cell_type": "markdown",
   "metadata": {},
   "source": [
    "#### Ejercicio 2: Formateando Cadenas\n",
    "\n",
    "##### Saber cómo dar formato a las cadenas es esencial cuando se presenta información de un programa. Hay algunas maneras diferentes de lograr esto en Python. En este ejercicio, se utilizan variables que contienen datos clave sobre la gravedad en varias lunas y luego se utilizan para dar formato e imprimir la información.\n",
    "\n",
    "##### El formato tiene que acomodar información sobre otras lunas, por lo que debe ser genérico.\n",
    "\n",
    "##### En lugar de reemplazar las variables en una cadena larga como parte de un párrafo, utiliza la información para presentarla en un formato tabular. El resultado debería verse así:\n",
    "\n",
    "##### Gravity Facts about Ganymede\n",
    "##### -------------------------------------------------------------------------------\n",
    "##### Planet Name: Mars\n",
    "##### Gravity on Ganymede: 1.4300000000000002 m/s2 texto con el que trabajarás es el siguiente:"
   ]
  },
  {
   "cell_type": "code",
   "execution_count": 1,
   "metadata": {},
   "outputs": [
    {
     "name": "stdout",
     "output_type": "stream",
     "text": [
      "datos de gravedad sobre Luna\n",
      "-------------------------------------------------------------------------------- \n",
      "Nombre del planeta: Tierra \n",
      "Gravedad en Luna: 1.6 m/s2 \n",
      "\n",
      "\n",
      "\n",
      "datos de gravedad sobre Ganímedes\n",
      "-------------------------------------------------------------------------------- \n",
      "Nombre del planeta: Marte \n",
      "Gravedad en Ganímedes: 1.4 m/s2 \n",
      "\n"
     ]
    }
   ],
   "source": [
    "nombre = \"Luna\"\n",
    "gravedad = round(0.00162, 4) # in kms\n",
    "planeta = \"Tierra\"\n",
    "titulo = f'datos de gravedad sobre {nombre}'\n",
    "print(titulo)\n",
    "\n",
    "hechos = f\"\"\"{'-'*80} \n",
    "Nombre del planeta: {planeta} \n",
    "Gravedad en {nombre}: {gravedad * 1000} m/s2 \n",
    "\"\"\"\n",
    "plantilla = f\"\"\"{titulo.title()} {hechos}\"\"\"\n",
    "print(hechos)\n",
    "\n",
    "print(\"\")\n",
    "print(\"\")\n",
    "\n",
    "nombre = \"Ganímedes\"\n",
    "gravedad = round(0.00143, 4) # in kms\n",
    "planeta = \"Marte\"\n",
    "titulo = f'datos de gravedad sobre {nombre}'\n",
    "print(titulo)\n",
    "\n",
    "hechos = f\"\"\"{'-'*80} \n",
    "Nombre del planeta: {planeta} \n",
    "Gravedad en {nombre}: {gravedad * 1000} m/s2 \n",
    "\"\"\"\n",
    "plantilla = f\"\"\"{titulo.title()} {hechos}\"\"\"\n",
    "print(hechos)"
   ]
  }
 ],
 "metadata": {
  "interpreter": {
   "hash": "4a0e7914b54f876e4208b1b2f23e4d89cd851d64d270f278a717bb0519f2259d"
  },
  "kernelspec": {
   "display_name": "Python 3.8.10 ('env': venv)",
   "language": "python",
   "name": "python3"
  },
  "language_info": {
   "codemirror_mode": {
    "name": "ipython",
    "version": 3
   },
   "file_extension": ".py",
   "mimetype": "text/x-python",
   "name": "python",
   "nbconvert_exporter": "python",
   "pygments_lexer": "ipython3",
   "version": "3.8.10"
  },
  "orig_nbformat": 4
 },
 "nbformat": 4,
 "nbformat_minor": 2
}
